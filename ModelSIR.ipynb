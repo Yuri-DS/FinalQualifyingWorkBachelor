{
 "cells": [
  {
   "cell_type": "code",
   "execution_count": 7,
   "id": "1a5786a6-6920-4f9b-8085-953b9ff21726",
   "metadata": {},
   "outputs": [],
   "source": [
    "# Подключение библиотек\n",
    "import numpy as np\n",
    "import matplotlib.pyplot as plt\n",
    "%matplotlib inline\n",
    "from scipy import integrate\n",
    "from ipywidgets import interact\n",
    "from matplotlib.animation import FuncAnimation\n",
    "from IPython.display import HTML"
   ]
  },
  {
   "cell_type": "code",
   "execution_count": 8,
   "id": "91d8e589-18a5-4d42-a7a4-ea9b1b5c0c26",
   "metadata": {},
   "outputs": [],
   "source": [
    "# Создание функций\n",
    "def sir_model(t, y, N, beta, gamma):\n",
    "    S, I, R = y\n",
    "    dS_dt = -beta*I*S/N\n",
    "    dI_dt = beta*I*S/N - gamma*I\n",
    "    dR_dt = gamma*I\n",
    "    return dS_dt, dI_dt, dR_dt\n",
    "\n",
    "def interact_sir(beta=.32, gamma=.12):\n",
    "    T = 200\n",
    "    sol = integrate.solve_ivp(lambda t, y: sir_model(t, y, N, beta, gamma), [0, T], [S0, I0, R0], dense_output=True)\n",
    "    t = np.linspace(0, T, 300)\n",
    "    y = sol.sol(t)\n",
    "    S, I, R = y[0, :], y[1, :], y[2, :]\n",
    "    plt.plot(t, S, label='Susceptible / Восприимчивые')\n",
    "    plt.plot(t, I, label='Infected / Инфицированные')\n",
    "    plt.plot(t, R, label='Recovered / Невосприимчивые')\n",
    "    plt.xlabel('t - Время')\n",
    "    plt.ylabel('N - Популяция')\n",
    "    plt.legend()\n",
    "    plt.grid()\n",
    "    plt.show()"
   ]
  },
  {
   "cell_type": "code",
   "execution_count": 9,
   "id": "9b0a3e02-60f4-4653-a6a0-865e22cdf2bd",
   "metadata": {},
   "outputs": [],
   "source": [
    "# Начальные параметры\n",
    "N = 200000\n",
    "beta = .32\n",
    "gamma = .12\n",
    "I0 = 100\n",
    "R0 = 0 \n",
    "S0 = N - I0 - R0"
   ]
  },
  {
   "cell_type": "code",
   "execution_count": 10,
   "id": "0a4a3bdb-27cc-4481-bf4c-d4eee9ecf5c1",
   "metadata": {},
   "outputs": [
    {
     "data": {
      "application/vnd.jupyter.widget-view+json": {
       "model_id": "42d7b4cbbe2840ed920161534c3a7404",
       "version_major": 2,
       "version_minor": 0
      },
      "text/plain": [
       "interactive(children=(FloatSlider(value=0.32, description='beta', max=1.0, step=0.01), FloatSlider(value=0.12,…"
      ]
     },
     "metadata": {},
     "output_type": "display_data"
    },
    {
     "data": {
      "text/plain": [
       "<function __main__.interact_sir(beta=0.32, gamma=0.12)>"
      ]
     },
     "execution_count": 10,
     "metadata": {},
     "output_type": "execute_result"
    }
   ],
   "source": [
    "interact(interact_sir, beta=(0, 1, .01), gamma=(0, 1, .01))"
   ]
  },
  {
   "cell_type": "code",
   "execution_count": null,
   "id": "c5e40622-b04a-4f5c-b37b-36b4dd7db91e",
   "metadata": {},
   "outputs": [],
   "source": []
  }
 ],
 "metadata": {
  "kernelspec": {
   "display_name": "Python 3 (ipykernel)",
   "language": "python",
   "name": "python3"
  },
  "language_info": {
   "codemirror_mode": {
    "name": "ipython",
    "version": 3
   },
   "file_extension": ".py",
   "mimetype": "text/x-python",
   "name": "python",
   "nbconvert_exporter": "python",
   "pygments_lexer": "ipython3",
   "version": "3.12.2"
  }
 },
 "nbformat": 4,
 "nbformat_minor": 5
}
